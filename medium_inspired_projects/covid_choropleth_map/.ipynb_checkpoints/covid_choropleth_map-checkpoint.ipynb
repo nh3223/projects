{
 "cells": [
  {
   "cell_type": "markdown",
   "metadata": {},
   "source": [
    "# US Covid-19 Cases and Deaths Visualization\n",
    "## County Level Static Map and State Level Dynamic Map"
   ]
  },
  {
   "cell_type": "markdown",
   "metadata": {},
   "source": [
    "This project is an offshoot of a Medium article by Terence Shin titled \"How to Visualize the Coronavirus Pandemic with Choropleth Maps.  His tutorial used curated global data obtained from Kaggle to provide static and dynamic global maps.  This project used US time series data taken directly from the Github data repository for the 2019 Novel Coronavirus Visual Dashboard operated by the Johns Hopkins University Center for Systems Science and Engineering (JHU CSSE).  By using the original datasource, additional data preparation was required to ensure that the maps, particularly the dynamic map, displayed properly.  The original conception of this project would have created a dynamic map at the county level, but this seems to be beyond the capabilities of my current computer."
   ]
  },
  {
   "cell_type": "markdown",
   "metadata": {},
   "source": [
    "## Import Libraries"
   ]
  },
  {
   "cell_type": "code",
   "execution_count": null,
   "metadata": {},
   "outputs": [],
   "source": [
    "import numpy as np\n",
    "import pandas as pd\n",
    "import plotly as py\n",
    "import plotly.express as px\n",
    "import json\n",
    "from urllib.request import urlopen"
   ]
  },
  {
   "cell_type": "markdown",
   "metadata": {},
   "source": [
    "## Set Pandas Options"
   ]
  },
  {
   "cell_type": "code",
   "execution_count": null,
   "metadata": {},
   "outputs": [],
   "source": [
    "pd.set_option('display.max_rows',15)"
   ]
  },
  {
   "cell_type": "markdown",
   "metadata": {},
   "source": [
    "## Import Geographic Information"
   ]
  },
  {
   "cell_type": "code",
   "execution_count": null,
   "metadata": {},
   "outputs": [],
   "source": [
    "with urlopen('https://raw.githubusercontent.com/plotly/datasets/master/geojson-counties-fips.json') as response:\n",
    "    counties = json.load(response)"
   ]
  },
  {
   "cell_type": "markdown",
   "metadata": {},
   "source": [
    "## Import US Covid-19 Case and Death Data"
   ]
  },
  {
   "cell_type": "code",
   "execution_count": null,
   "metadata": {},
   "outputs": [],
   "source": [
    "cases_csv = 'https://raw.githubusercontent.com/CSSEGISandData/COVID-19/master/csse_covid_19_data/csse_covid_19_time_series/time_series_covid19_confirmed_US.csv'\n",
    "deaths_csv = 'https://raw.githubusercontent.com/CSSEGISandData/COVID-19/master/csse_covid_19_data/csse_covid_19_time_series/time_series_covid19_deaths_US.csv'"
   ]
  },
  {
   "cell_type": "code",
   "execution_count": null,
   "metadata": {},
   "outputs": [],
   "source": [
    "cases = pd.read_csv(cases_csv)\n",
    "deaths = pd.read_csv(deaths_csv)"
   ]
  },
  {
   "cell_type": "markdown",
   "metadata": {},
   "source": [
    "## Prepare Data for County Level Static Map\n",
    "\n",
    "Limit data to counties that have at least one confirmed case/death"
   ]
  },
  {
   "cell_type": "code",
   "execution_count": null,
   "metadata": {},
   "outputs": [],
   "source": [
    "today = '4/12/20'\n",
    "cases = cases[cases[today] > 0]\n",
    "deaths = deaths[deaths[today] > 0]"
   ]
  },
  {
   "cell_type": "markdown",
   "metadata": {},
   "source": [
    "Add FIPS code for Dukes and Nantucket Counties in Massachuetts to just Dukes County (Martha's Vineyard).\n",
    "Drop Kansas City, Missouri (data should be included already in counties)"
   ]
  },
  {
   "cell_type": "code",
   "execution_count": null,
   "metadata": {},
   "outputs": [],
   "source": [
    "cases = cases.drop(labels=3148)\n",
    "deaths = deaths.drop(labels=3148)\n",
    "cases.at[3147,'FIPS'] = 25007\n",
    "deaths.at[3147,'FIPS'] = 25007"
   ]
  },
  {
   "cell_type": "markdown",
   "metadata": {},
   "source": [
    "Adjust FIPS codes"
   ]
  },
  {
   "cell_type": "code",
   "execution_count": null,
   "metadata": {},
   "outputs": [],
   "source": [
    "cases['FIPS'] = cases['FIPS'].astype(int).astype(str).str.zfill(5)"
   ]
  },
  {
   "cell_type": "code",
   "execution_count": null,
   "metadata": {},
   "outputs": [],
   "source": [
    "deaths['FIPS'] = deaths['FIPS'].astype(int).astype(str).str.zfill(5)"
   ]
  },
  {
   "cell_type": "markdown",
   "metadata": {},
   "source": [
    "## Prepare Data for State Level Dynamic Map\n",
    "\n",
    "Aggregate Data by State"
   ]
  },
  {
   "cell_type": "code",
   "execution_count": null,
   "metadata": {},
   "outputs": [],
   "source": [
    "state_cases = cases.groupby(cases['Province_State']).sum()\n",
    "state_deaths = deaths.groupby(deaths['Province_State']).sum()\n",
    "\n",
    "case_dropped_rows = ['Diamond Princess', 'Grand Princess', 'Guam', 'Virgin Islands', 'Northern Mariana Islands']\n",
    "death_dropped_rows = ['Guam','Northern Mariana Islands','Virgin Islands']\n",
    "state_cases.drop(case_dropped_rows,inplace=True)\n",
    "state_deaths.drop(death_dropped_rows, inplace=True)\n",
    "\n",
    "state_deaths = state_deaths.reset_index()\n",
    "state_cases = state_cases.reset_index()"
   ]
  },
  {
   "cell_type": "markdown",
   "metadata": {},
   "source": [
    "Restructure DataFrame to work with Plotly animation"
   ]
  },
  {
   "cell_type": "code",
   "execution_count": null,
   "metadata": {},
   "outputs": [],
   "source": [
    "def restructure(df):\n",
    "    '''\n",
    "    df:      Case or Death dataframe with aggregated state data\n",
    "    returns: DataFrame restructured for Plotly animation\n",
    "    '''\n",
    "    states = ['AL','AK','AZ','AR','CA','CO','CT','DE','DC','FL',\n",
    "              'GA','HI','ID','IL','IN','IA','KS','KY','LA','ME',\n",
    "              'MD','MA','MI','MN','MS','MO','MT','NE','NV','NH',\n",
    "              'NJ','NM','NY','NC','ND','OH','OK','OR','PA','PR',\n",
    "              'RI','SC','SD','TN','TX','UT','VT','VA','WA','WV',\n",
    "              'WI','WY']\n",
    "    if len(df.index) == 51:\n",
    "        states.pop()\n",
    "    dates = list(df.columns.values)[11:]\n",
    "    date_list = []\n",
    "    for date in dates:\n",
    "        animate = df[date].to_numpy()\n",
    "        temp_array = np.array(list(zip(np.array(states), animate)))\n",
    "        temp_df = pd.DataFrame(temp_array)\n",
    "        temp_df['Date'] = date\n",
    "        date_list.append(temp_df)\n",
    "    return pd.concat(date_list)\n",
    "\n",
    "animate_cases = restructure(state_cases).rename(columns={0: 'State', 1: 'Cases'})\n",
    "animate_deaths = restructure(state_deaths).rename(columns={0: 'State', 1: 'Deaths'})\n",
    "\n",
    "animate_cases['Cases'] = animate_cases['Cases'].astype(int)\n",
    "animate_cases['Date'] = pd.to_datetime(animate_cases['Date']).astype(str)\n",
    "animate_cases = animate_cases.sort_values(['State','Date'])\n",
    "\n",
    "animate_deaths['Deaths'] = animate_deaths['Deaths'].astype(float).astype(int)\n",
    "animate_deaths['Date'] = pd.to_datetime(animate_deaths['Date']).astype(str)\n",
    "animate_deaths = animate_deaths.sort_values(['State','Date'])"
   ]
  },
  {
   "cell_type": "markdown",
   "metadata": {},
   "source": [
    "## Create Static County Level Maps"
   ]
  },
  {
   "cell_type": "code",
   "execution_count": null,
   "metadata": {},
   "outputs": [],
   "source": [
    "case_fig = px.choropleth(cases,\n",
    "                         geojson=counties,\n",
    "                         locations='FIPS',\n",
    "                         color='4/7/20',\n",
    "                         color_continuous_scale=\"Viridis\",\n",
    "                         range_color=(0, 50),\n",
    "                         scope=\"usa\",\n",
    "                         labels={'4/7/20': 'cases as of 4/7/20'}\n",
    "                        )\n",
    "\n",
    "deaths_fig = px.choropleth(deaths,\n",
    "                           geojson=counties,\n",
    "                           locations='FIPS',\n",
    "                           color='4/7/20',\n",
    "                           color_continuous_scale=\"Viridis\",\n",
    "                           range_color=(0, 10),\n",
    "                           scope=\"usa\",\n",
    "                           labels={'4/7/20': 'deaths as of 4/7/20'}\n",
    "                          )"
   ]
  },
  {
   "cell_type": "markdown",
   "metadata": {},
   "source": [
    "## Create Dynamic State Level Maps"
   ]
  },
  {
   "cell_type": "code",
   "execution_count": null,
   "metadata": {
    "scrolled": true
   },
   "outputs": [],
   "source": [
    "dynamic_cases_fig = px.choropleth(animate_cases,\n",
    "                                  color= 'Cases',\n",
    "                                  color_continuous_scale = \"Inferno\",\n",
    "                                  range_color = (1,10000),\n",
    "                                  locations = 'State',\n",
    "                                  locationmode = 'USA-states',\n",
    "                                  scope = 'usa',\n",
    "                                  animation_frame = 'Date'\n",
    "                                 )\n",
    "\n",
    "dynamic_deaths_fig = px.choropleth(animate_deaths,\n",
    "                                  color= 'Deaths',\n",
    "                                  color_continuous_scale = \"Inferno\",\n",
    "                                  range_color = (1,400),\n",
    "                                  locations = 'State',\n",
    "                                  locationmode = 'USA-states',\n",
    "                                  scope = 'usa',\n",
    "                                  animation_frame = 'Date'\n",
    "                                 )"
   ]
  },
  {
   "cell_type": "markdown",
   "metadata": {},
   "source": [
    "## Show Maps"
   ]
  },
  {
   "cell_type": "code",
   "execution_count": null,
   "metadata": {
    "scrolled": false
   },
   "outputs": [],
   "source": [
    "case_fig.show()\n",
    "deaths_fig.show()\n",
    "dynamic_cases_fig.show()\n",
    "dynamic_deaths_fig.show()"
   ]
  },
  {
   "cell_type": "code",
   "execution_count": null,
   "metadata": {},
   "outputs": [],
   "source": [
    "deaths"
   ]
  },
  {
   "cell_type": "markdown",
   "metadata": {},
   "source": [
    "## Create 3-day percentage increase maps\n",
    "\n",
    "Prepare data"
   ]
  },
  {
   "cell_type": "code",
   "execution_count": null,
   "metadata": {},
   "outputs": [],
   "source": [
    "dates = list(deaths.columns.values)[12:]\n",
    "cases['3 day percentage increase'] = (cases[dates[-2]] - cases[dates[-5]]) / cases[dates[-5]]\n",
    "deaths['3 day percentage increase'] = (deaths[dates[-2]] - deaths[dates[-5]]) / deaths[dates[-5]]"
   ]
  },
  {
   "cell_type": "markdown",
   "metadata": {},
   "source": [
    "Create map files"
   ]
  },
  {
   "cell_type": "code",
   "execution_count": null,
   "metadata": {},
   "outputs": [],
   "source": [
    "cases_percentage_increase = px.choropleth(cases,\n",
    "                                          geojson=counties,\n",
    "                                          locations='FIPS',\n",
    "                                          color = '3 day percentage increase',\n",
    "                                          color_continuous_scale = \"Viridis\",\n",
    "                                          range_color = (0,0.5),\n",
    "                                          scope=\"usa\"\n",
    "                                         )\n",
    "\n",
    "deaths_percentage_increase = px.choropleth(deaths,\n",
    "                                           geojson=counties,\n",
    "                                           locations='FIPS',\n",
    "                                           color='3 day percentage increase',\n",
    "                                           color_continuous_scale=\"Viridis\",\n",
    "                                           range_color = (0,0.5),\n",
    "                                           scope=\"usa\"\n",
    "                                          )"
   ]
  },
  {
   "cell_type": "markdown",
   "metadata": {},
   "source": [
    "Show maps"
   ]
  },
  {
   "cell_type": "code",
   "execution_count": null,
   "metadata": {},
   "outputs": [],
   "source": [
    "cases_percentage_increase.show()\n",
    "deaths_percentage_increase.show()"
   ]
  },
  {
   "cell_type": "markdown",
   "metadata": {},
   "source": [
    "## Create Population Adjusted County Maps\n",
    "\n",
    "Prepare data"
   ]
  },
  {
   "cell_type": "code",
   "execution_count": null,
   "metadata": {},
   "outputs": [],
   "source": [
    "deaths['Per 100,000'] = deaths[today] * 100000 / deaths['Population']"
   ]
  },
  {
   "cell_type": "markdown",
   "metadata": {},
   "source": [
    "Create Map File"
   ]
  },
  {
   "cell_type": "code",
   "execution_count": null,
   "metadata": {},
   "outputs": [],
   "source": [
    "deaths_per_100000 = px.choropleth(deaths,\n",
    "                                  geojson=counties,\n",
    "                                  locations='FIPS',\n",
    "                                  color='Per 100,000',\n",
    "                                  color_continuous_scale=\"Viridis\",\n",
    "                                  range_color = (0,10),\n",
    "                                  scope=\"usa\"\n",
    "                                 )"
   ]
  },
  {
   "cell_type": "markdown",
   "metadata": {},
   "source": [
    "Show Map"
   ]
  },
  {
   "cell_type": "code",
   "execution_count": null,
   "metadata": {},
   "outputs": [],
   "source": [
    "deaths_per_100000.show()"
   ]
  },
  {
   "cell_type": "code",
   "execution_count": null,
   "metadata": {},
   "outputs": [],
   "source": []
  }
 ],
 "metadata": {
  "kernelspec": {
   "display_name": "Python 3",
   "language": "python",
   "name": "python3"
  },
  "language_info": {
   "codemirror_mode": {
    "name": "ipython",
    "version": 3
   },
   "file_extension": ".py",
   "mimetype": "text/x-python",
   "name": "python",
   "nbconvert_exporter": "python",
   "pygments_lexer": "ipython3",
   "version": "3.7.4"
  }
 },
 "nbformat": 4,
 "nbformat_minor": 2
}
