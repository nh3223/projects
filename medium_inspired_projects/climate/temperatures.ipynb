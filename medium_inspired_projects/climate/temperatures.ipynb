{
 "cells": [
  {
   "cell_type": "code",
   "execution_count": null,
   "metadata": {},
   "outputs": [],
   "source": [
    "import numpy as np\n",
    "import pandas as pd\n",
    "import plotly.express as px"
   ]
  },
  {
   "cell_type": "code",
   "execution_count": null,
   "metadata": {},
   "outputs": [],
   "source": [
    "path = '../../../projects_data/climate_data/'\n",
    "#city_temperatures = pd.read_csv('GlobalLandTemperaturesByCity.csv')\n",
    "global_temperatures = pd.read_csv(path +'GlobalTemperatures.csv')"
   ]
  },
  {
   "cell_type": "code",
   "execution_count": null,
   "metadata": {},
   "outputs": [],
   "source": [
    "#city_temperatures"
   ]
  },
  {
   "cell_type": "code",
   "execution_count": null,
   "metadata": {},
   "outputs": [],
   "source": [
    "global_temperatures.dtypes"
   ]
  },
  {
   "cell_type": "code",
   "execution_count": null,
   "metadata": {},
   "outputs": [],
   "source": [
    "fig = px.line(global_temperatures,x='dt',y='LandAverageTemperature')\n",
    "fig.show()"
   ]
  },
  {
   "cell_type": "code",
   "execution_count": null,
   "metadata": {},
   "outputs": [],
   "source": [
    "global_temperatures['Year'] = global_temperatures['dt'].str[0:4]\n",
    "global_temperatures['Month'] = global_temperatures['dt'].str[5:7].astype(int)\n",
    "global_temperatures['UpperAverage'] = global_temperatures['LandAverageTemperature'] + 0.5*global_temperatures['LandAverageTemperatureUncertainty']\n",
    "global_temperatures['LowerAverage'] = global_temperatures['LandAverageTemperature'] - 0.5*global_temperatures['LandAverageTemperatureUncertainty']\n",
    "global_temperatures_short = global_temperatures[['Year','Month','LandAverageTemperature','UpperAverage','LowerAverage']]\n",
    "global_temperatures_short = global_temperatures_short.melt(id_vars=['Year','Month'],value_vars=['LandAverageTemperature','UpperAverage','LowerAverage'])\n",
    "print(global_temperatures_short)"
   ]
  },
  {
   "cell_type": "code",
   "execution_count": null,
   "metadata": {},
   "outputs": [],
   "source": [
    "fig = px.line(global_temperatures_short[global_temperatures_short['Month']==4],x='Year',y='value',color='variable')\n",
    "fig.show()"
   ]
  },
  {
   "cell_type": "code",
   "execution_count": null,
   "metadata": {},
   "outputs": [],
   "source": []
  }
 ],
 "metadata": {
  "kernelspec": {
   "display_name": "Python 3",
   "language": "python",
   "name": "python3"
  },
  "language_info": {
   "codemirror_mode": {
    "name": "ipython",
    "version": 3
   },
   "file_extension": ".py",
   "mimetype": "text/x-python",
   "name": "python",
   "nbconvert_exporter": "python",
   "pygments_lexer": "ipython3",
   "version": "3.7.4"
  }
 },
 "nbformat": 4,
 "nbformat_minor": 2
}
