{
 "cells": [
  {
   "cell_type": "code",
   "execution_count": 5,
   "metadata": {},
   "outputs": [],
   "source": [
    "import numpy as np\n",
    "import matplotlib as plt\n",
    "import math\n",
    "%matplotlib inline"
   ]
  },
  {
   "cell_type": "code",
   "execution_count": 36,
   "metadata": {},
   "outputs": [
    {
     "name": "stdout",
     "output_type": "stream",
     "text": [
      "0.4\n"
     ]
    }
   ],
   "source": [
    "R_naught = 2\n",
    "contagious_period = 5\n",
    "average_transmissions_per_day = R_naught / contagious_period\n",
    "death_rate = 0.01\n",
    "population = 1000000\n",
    "period = 100\n",
    "print(average_transmissions_per_day)"
   ]
  },
  {
   "cell_type": "code",
   "execution_count": 37,
   "metadata": {},
   "outputs": [],
   "source": [
    "new = np.zeros(period, dtype=np.int64)\n",
    "active = np.zeros(period, dtype=np.int64)\n",
    "recovered = np.zeros(period, dtype=np.int64)\n",
    "total_cases = np.zeros(period,dtype=np.int64)\n",
    "deaths = np.zeros(period,dtype=np.int64)\n",
    "total_deaths = np.zeros(period, dtype=np.int64)\n",
    "new[0] = 1\n",
    "active[0] = 1\n",
    "total_cases[0] = 1"
   ]
  },
  {
   "cell_type": "code",
   "execution_count": 38,
   "metadata": {},
   "outputs": [],
   "source": [
    "for day in range(1,period):\n",
    "    for person in range(active[day-1]):\n",
    "        transmit = np.random.random()\n",
    "        if transmit <= average_transmissions_per_day: \n",
    "            failed_transmit = np.random.random()\n",
    "            immune_rate = (sum(recovered) + total_deaths[day - 1])/(population - total_deaths[day - 1]+1)\n",
    "            if failed_transmit >= immune_rate:\n",
    "                new[day] += 1\n",
    "            if np.random.random() <= death_rate:\n",
    "                deaths[day] += 1\n",
    "        if day >= contagious_period:\n",
    "            recovered[day] = new[day - contagious_period]\n",
    "    active[day] = active[day - 1] + new[day] - recovered[day] - deaths[day]\n",
    "    total_cases[day] = total_cases[day - 1] + new[day]\n",
    "    total_deaths[day] = total_deaths[day - 1] + deaths[day]\n",
    "            "
   ]
  },
  {
   "cell_type": "code",
   "execution_count": 39,
   "metadata": {},
   "outputs": [
    {
     "data": {
      "text/plain": [
       "array([     1,      1,      2,      0,      1,      4,      3,      4,\n",
       "            4,      9,      8,      9,     12,     18,     24,     31,\n",
       "           41,     51,     65,     84,    107,    130,    158,    192,\n",
       "          269,    347,    449,    550,    735,    926,   1213,   1495,\n",
       "         1872,   2414,   3156,   3920,   5102,   6329,   8151,  10191,\n",
       "        12953,  16475,  20635,  25835,  32328,  39815,  49105,  59008,\n",
       "        70879,  82600,  94374, 105229, 111034, 111966, 103795,  87630,\n",
       "        64131,  37316,  12750,      0,      0,      0,      0,      0,\n",
       "            0,      0,      0,      0,      0,      0,      0,      0,\n",
       "            0,      0,      0,      0,      0,      0,      0,      0,\n",
       "            0,      0,      0,      0,      0,      0,      0,      0,\n",
       "            0,      0,      0,      0,      0,      0,      0,      0,\n",
       "            0,      0,      0,      0], dtype=int64)"
      ]
     },
     "execution_count": 39,
     "metadata": {},
     "output_type": "execute_result"
    }
   ],
   "source": [
    "new"
   ]
  },
  {
   "cell_type": "code",
   "execution_count": 40,
   "metadata": {},
   "outputs": [
    {
     "data": {
      "text/plain": [
       "array([     1,      2,      4,      4,      5,      8,     10,     12,\n",
       "           16,     24,     28,     32,     40,     53,     68,     91,\n",
       "          123,    161,    207,    266,    340,    427,    534,    660,\n",
       "          843,   1081,   1397,   1784,   2319,   2969,   3822,   4860,\n",
       "         6159,   7814,  10012,  12674,  16224,  20619,  26263,  33185,\n",
       "        42100,  53283,  67395,  84805, 106614, 133056, 165146, 202887,\n",
       "       247117, 296406, 349806, 404519, 454924, 494179, 513474, 504656,\n",
       "       461617, 386077, 285268, 180359,  92014,  27519,  -9904,  -9904,\n",
       "        -9904,  -9904,  -9904,  -9904,  -9904,  -9904,  -9904,  -9904,\n",
       "        -9904,  -9904,  -9904,  -9904,  -9904,  -9904,  -9904,  -9904,\n",
       "        -9904,  -9904,  -9904,  -9904,  -9904,  -9904,  -9904,  -9904,\n",
       "        -9904,  -9904,  -9904,  -9904,  -9904,  -9904,  -9904,  -9904,\n",
       "        -9904,  -9904,  -9904,  -9904], dtype=int64)"
      ]
     },
     "execution_count": 40,
     "metadata": {},
     "output_type": "execute_result"
    }
   ],
   "source": [
    "active"
   ]
  },
  {
   "cell_type": "code",
   "execution_count": 41,
   "metadata": {},
   "outputs": [
    {
     "data": {
      "text/plain": [
       "array([      1,       2,       4,       4,       5,       9,      12,\n",
       "            16,      20,      29,      37,      46,      58,      76,\n",
       "           100,     131,     172,     223,     288,     372,     479,\n",
       "           609,     767,     959,    1228,    1575,    2024,    2574,\n",
       "          3309,    4235,    5448,    6943,    8815,   11229,   14385,\n",
       "         18305,   23407,   29736,   37887,   48078,   61031,   77506,\n",
       "         98141,  123976,  156304,  196119,  245224,  304232,  375111,\n",
       "        457711,  552085,  657314,  768348,  880314,  984109, 1071739,\n",
       "       1135870, 1173186, 1185936, 1185936, 1185936, 1185936, 1185936,\n",
       "       1185936, 1185936, 1185936, 1185936, 1185936, 1185936, 1185936,\n",
       "       1185936, 1185936, 1185936, 1185936, 1185936, 1185936, 1185936,\n",
       "       1185936, 1185936, 1185936, 1185936, 1185936, 1185936, 1185936,\n",
       "       1185936, 1185936, 1185936, 1185936, 1185936, 1185936, 1185936,\n",
       "       1185936, 1185936, 1185936, 1185936, 1185936, 1185936, 1185936,\n",
       "       1185936, 1185936], dtype=int64)"
      ]
     },
     "execution_count": 41,
     "metadata": {},
     "output_type": "execute_result"
    }
   ],
   "source": [
    "total_cases"
   ]
  },
  {
   "cell_type": "code",
   "execution_count": 42,
   "metadata": {},
   "outputs": [
    {
     "data": {
      "text/plain": [
       "array([    0,     0,     0,     0,     0,     0,     0,     0,     0,\n",
       "           0,     0,     2,     2,     3,     3,     3,     3,     4,\n",
       "           5,     6,     8,    10,    10,    11,    13,    15,    18,\n",
       "          23,    31,    38,    51,    59,    82,   106,   138,   183,\n",
       "         240,   302,   395,   508,   626,   816,  1010,  1284,  1612,\n",
       "        2032,  2572,  3204,  4018,  5001,  6160,  7571,  9192, 11024,\n",
       "       12924, 14998, 16939, 18761, 20354, 21468, 22183, 22547, 22654,\n",
       "       22654, 22654, 22654, 22654, 22654, 22654, 22654, 22654, 22654,\n",
       "       22654, 22654, 22654, 22654, 22654, 22654, 22654, 22654, 22654,\n",
       "       22654, 22654, 22654, 22654, 22654, 22654, 22654, 22654, 22654,\n",
       "       22654, 22654, 22654, 22654, 22654, 22654, 22654, 22654, 22654,\n",
       "       22654], dtype=int64)"
      ]
     },
     "execution_count": 42,
     "metadata": {},
     "output_type": "execute_result"
    }
   ],
   "source": [
    "total_deaths"
   ]
  },
  {
   "cell_type": "code",
   "execution_count": 43,
   "metadata": {},
   "outputs": [
    {
     "data": {
      "text/plain": [
       "array([     0,      0,      0,      0,      0,      1,      1,      2,\n",
       "            0,      1,      4,      3,      4,      4,      9,      8,\n",
       "            9,     12,     18,     24,     31,     41,     51,     65,\n",
       "           84,    107,    130,    158,    192,    269,    347,    449,\n",
       "          550,    735,    926,   1213,   1495,   1872,   2414,   3156,\n",
       "         3920,   5102,   6329,   8151,  10191,  12953,  16475,  20635,\n",
       "        25835,  32328,  39815,  49105,  59008,  70879,  82600,  94374,\n",
       "       105229, 111034, 111966, 103795,  87630,  64131,  37316,      0,\n",
       "            0,      0,      0,      0,      0,      0,      0,      0,\n",
       "            0,      0,      0,      0,      0,      0,      0,      0,\n",
       "            0,      0,      0,      0,      0,      0,      0,      0,\n",
       "            0,      0,      0,      0,      0,      0,      0,      0,\n",
       "            0,      0,      0,      0], dtype=int64)"
      ]
     },
     "execution_count": 43,
     "metadata": {},
     "output_type": "execute_result"
    }
   ],
   "source": [
    "recovered"
   ]
  },
  {
   "cell_type": "code",
   "execution_count": 44,
   "metadata": {},
   "outputs": [
    {
     "data": {
      "text/plain": [
       "1185936"
      ]
     },
     "execution_count": 44,
     "metadata": {},
     "output_type": "execute_result"
    }
   ],
   "source": [
    "sum(new)"
   ]
  },
  {
   "cell_type": "code",
   "execution_count": 48,
   "metadata": {},
   "outputs": [
    {
     "data": {
      "text/plain": [
       "31"
      ]
     },
     "execution_count": 48,
     "metadata": {},
     "output_type": "execute_result"
    }
   ],
   "source": [
    "salary = 1000000\n",
    "t = 1\n",
    "while salary < 1000000000:\n",
    "    salary *= 2\n",
    "    t += 1\n",
    "t"
   ]
  },
  {
   "cell_type": "code",
   "execution_count": null,
   "metadata": {},
   "outputs": [],
   "source": []
  }
 ],
 "metadata": {
  "kernelspec": {
   "display_name": "Python 3",
   "language": "python",
   "name": "python3"
  },
  "language_info": {
   "codemirror_mode": {
    "name": "ipython",
    "version": 3
   },
   "file_extension": ".py",
   "mimetype": "text/x-python",
   "name": "python",
   "nbconvert_exporter": "python",
   "pygments_lexer": "ipython3",
   "version": "3.7.4"
  }
 },
 "nbformat": 4,
 "nbformat_minor": 2
}
